{
 "cells": [
  {
   "cell_type": "code",
   "execution_count": 1,
   "metadata": {},
   "outputs": [],
   "source": [
    "import numpy as np"
   ]
  },
  {
   "cell_type": "code",
   "execution_count": 3,
   "metadata": {},
   "outputs": [],
   "source": [
    "c = 50\n",
    "l = 1\n",
    "r = 1\n",
    "dt = 0.0001\n",
    "tf = 0.156\n",
    "xc = 0.3\n",
    "k = 1000\n",
    "dx = c*dt/r"
   ]
  },
  {
   "cell_type": "code",
   "execution_count": 71,
   "metadata": {},
   "outputs": [],
   "source": [
    "def gaussian(x, xc, k):\n",
    "    return np.exp(-k*(x - xc)**2)"
   ]
  },
  {
   "cell_type": "code",
   "execution_count": 126,
   "metadata": {},
   "outputs": [],
   "source": [
    "# Cria vetores de tempo e espaço\n",
    "t = np.arange(0, tf, dt)\n",
    "x = np.arange(0, l + dx, dx)\n",
    "y = np.zeros((len(x), len(t)))\n",
    "\n",
    "# Condições de contorno\n",
    "y[0, :] = 0\n",
    "y[-1, :] = 0\n",
    "\n",
    "# Condição inicial\n",
    "y[:, 0] = gaussian(x, xc, k)"
   ]
  },
  {
   "cell_type": "code",
   "execution_count": 127,
   "metadata": {},
   "outputs": [],
   "source": [
    "for n in range(0, len(t) - 1):\n",
    "    for i in range(0, len(x) - 1):\n",
    "        if n == 0:\n",
    "            y[i, 1] = 2*(1 - r**2)*y[i, 0] + r**2*(y[i + 1, 0] + y[i - 1, 0]) - y[i, 0]\n",
    "            continue\n",
    "        else:\n",
    "            y[i, n + 1] = 2*(1 - r**2)*y[i, n] - y[i, n - 1] + r**2*(y[i + 1, n] + y[i - 1, n])"
   ]
  },
  {
   "cell_type": "code",
   "execution_count": 128,
   "metadata": {},
   "outputs": [
    {
     "name": "stdout",
     "output_type": "stream",
     "text": [
      "4.297187e-07\n",
      "1.375191e-06\n",
      "4.184322e-06\n",
      "1.210501e-05\n",
      "3.329492e-05\n",
      "8.706789e-05\n",
      "2.164713e-04\n",
      "5.116813e-04\n",
      "1.149876e-03\n",
      "2.456687e-03\n",
      "4.989896e-03\n",
      "9.635439e-03\n",
      "1.768828e-02\n",
      "3.086954e-02\n",
      "5.121546e-02\n",
      "8.077838e-02\n",
      "1.211181e-01\n",
      "1.726396e-01\n",
      "2.339301e-01\n",
      "3.013313e-01\n",
      "3.689887e-01\n",
      "4.295275e-01\n",
      "4.753099e-01\n",
      "5.000000e-01\n",
      "5.000000e-01\n",
      "4.753099e-01\n",
      "4.295275e-01\n",
      "3.689887e-01\n",
      "3.013313e-01\n"
     ]
    }
   ],
   "source": [
    "for ii in range(-30, -1):\n",
    "    print(\"{:10.6e}\".format(y[len(x) // 2 + 15 + ii, -1]))"
   ]
  },
  {
   "cell_type": "code",
   "execution_count": 103,
   "metadata": {},
   "outputs": [],
   "source": [
    "from matplotlib import pyplot as plt"
   ]
  },
  {
   "cell_type": "code",
   "execution_count": 104,
   "metadata": {},
   "outputs": [
    {
     "data": {
      "text/plain": [
       "<matplotlib.collections.PathCollection at 0x11d2e2a10>"
      ]
     },
     "execution_count": 104,
     "metadata": {},
     "output_type": "execute_result"
    },
    {
     "data": {
      "image/png": "[encoded data removed]",
      "text/plain": [
       "<Figure size 640x480 with 1 Axes>"
      ]
     },
     "metadata": {},
     "output_type": "display_data"
    }
   ],
   "source": [
    "plt.scatter(x, y[:, -1])"
   ]
  }
 ],
 "metadata": {
  "kernelspec": {
   "display_name": "Python 3",
   "language": "python",
   "name": "python3"
  },
  "language_info": {
   "codemirror_mode": {
    "name": "ipython",
    "version": 3
   },
   "file_extension": ".py",
   "mimetype": "text/x-python",
   "name": "python",
   "nbconvert_exporter": "python",
   "pygments_lexer": "ipython3",
   "version": "3.11.6"
  }
 },
 "nbformat": 4,
 "nbformat_minor": 2
}
